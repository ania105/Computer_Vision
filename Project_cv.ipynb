{
 "cells": [
  {
   "cell_type": "markdown",
   "id": "61650939-fd4f-439b-b372-d290ea20cfeb",
   "metadata": {},
   "source": [
    "## Image-to-Text Conversion System"
   ]
  },
  {
   "cell_type": "code",
   "execution_count": 1,
   "id": "f77d4191-63ca-4e34-8602-cd0933f8a10a",
   "metadata": {},
   "outputs": [],
   "source": [
    "import cv2\n",
    "import pytesseract\n",
    "\n",
    "import matplotlib.pyplot as plt\n"
   ]
  },
  {
   "cell_type": "code",
   "execution_count": 2,
   "id": "cccf4ad4-f45f-4ef0-b76b-b2b36f96ee6c",
   "metadata": {},
   "outputs": [],
   "source": [
    "pytesseract.pytesseract.tesseract_cmd = r'C:\\Program Files\\Tesseract-OCR\\tesseract.exe'"
   ]
  },
  {
   "cell_type": "code",
   "execution_count": 3,
   "id": "f2cae4fe-7540-455d-aa79-aa3f994aef57",
   "metadata": {},
   "outputs": [],
   "source": [
    "img = cv2.imread(\"test4.png\")\n",
    "gray = cv2.cvtColor(img, cv2.COLOR_BGR2GRAY)"
   ]
  },
  {
   "cell_type": "code",
   "execution_count": 4,
   "id": "590958d4-5d82-4243-b0fb-234f6c506d22",
   "metadata": {},
   "outputs": [],
   "source": [
    "ret, thresh1 = cv2.threshold(gray, 0, 255, cv2.THRESH_OTSU | cv2.THRESH_BINARY_INV)"
   ]
  },
  {
   "cell_type": "code",
   "execution_count": 5,
   "id": "fe13611f-afd5-492b-9df7-26794d6b6320",
   "metadata": {},
   "outputs": [],
   "source": [
    "rect_kernel = cv2.getStructuringElement(cv2.MORPH_RECT, (25, 25))\n"
   ]
  },
  {
   "cell_type": "code",
   "execution_count": 6,
   "id": "c3663848-d752-4e11-8eff-ef36af74dbce",
   "metadata": {},
   "outputs": [],
   "source": [
    "dilation = cv2.dilate(thresh1, rect_kernel, iterations = 1)"
   ]
  },
  {
   "cell_type": "code",
   "execution_count": 7,
   "id": "e003a562-84dd-45d3-847a-fa24beb98485",
   "metadata": {},
   "outputs": [],
   "source": [
    "contours, hierarchy = cv2.findContours(dilation, cv2.RETR_EXTERNAL,cv2.CHAIN_APPROX_NONE)\n"
   ]
  },
  {
   "cell_type": "code",
   "execution_count": 8,
   "id": "9e4b858c-2824-4b8b-8ca3-82fcba4b7a53",
   "metadata": {},
   "outputs": [],
   "source": [
    "im2 = gray.copy()\n",
    "\n",
    "cnt_list=[]\n",
    "for cnt in contours:\n",
    "    x, y, w, h = cv2.boundingRect(cnt)\n",
    "\n",
    "    # Drawing a rectangle on the copied image\n",
    "    rect = cv2.rectangle(im2, (x, y), (x + w, y + h), (0, 255, 0), 5)\n",
    "    cv2.circle(im2,(x,y),8,(255,255,0),8)\n",
    "\n",
    "    # Cropping the text block for giving input to OCR\n",
    "    cropped = im2[y:y + h, x:x + w]\n",
    "\n",
    "    # Apply OCR on the cropped image\n",
    "    text = pytesseract.image_to_string(cropped)\n",
    "\n",
    "    cnt_list.append([x,y,text])"
   ]
  },
  {
   "cell_type": "code",
   "execution_count": 9,
   "id": "0ed2d6c1-a42a-47f4-9b99-3869f4565c76",
   "metadata": {},
   "outputs": [],
   "source": [
    "sorted_list = sorted(cnt_list, key=lambda x: x[1])\n"
   ]
  },
  {
   "cell_type": "code",
   "execution_count": 10,
   "id": "a11f6051-f9c4-4634-b45a-eed8ce5cba6c",
   "metadata": {},
   "outputs": [],
   "source": [
    "# A text file is created \n",
    "file = open(\"recognized.txt\", \"w+\")\n",
    "file.write(\"\")\n",
    "file.close()\n",
    "\n",
    "\n",
    "for x,y,text in sorted_list:\n",
    "    # Open the file in append mode\n",
    "    file = open(\"recognized.txt\", \"a\")\n",
    "\n",
    "    # Appending the text into the file\n",
    "    file.write(text)\n",
    "    file.write(\"\\n\")\n",
    "\n",
    "    # Close the file\n",
    "    file.close()"
   ]
  },
  {
   "cell_type": "code",
   "execution_count": 11,
   "id": "d09b3abf-f25f-40d1-83b5-550fd4ca538f",
   "metadata": {},
   "outputs": [],
   "source": [
    "# read image \n",
    "rgb_image = cv2.resize(im2, (0, 0), fx = 0.4, fy = 0.4)\n",
    "dilation = cv2.resize(dilation, (0, 0), fx = 0.4, fy = 0.4)\n",
    "thresh1 = cv2.resize(thresh1, (0, 0), fx = 0.4, fy = 0.4)\n"
   ]
  },
  {
   "cell_type": "code",
   "execution_count": 12,
   "id": "70a0a758-6303-4a41-8e11-fdc14db9958d",
   "metadata": {},
   "outputs": [],
   "source": [
    "# show the image, provide the window name first\n",
    "cv2.imshow('thresh1', thresh1)\n",
    "cv2.imshow('dilation', dilation)\n",
    "cv2.imshow('gray', gray)"
   ]
  },
  {
   "cell_type": "code",
   "execution_count": null,
   "id": "2ea81144-250d-4700-b1e0-3a19cb346cc6",
   "metadata": {},
   "outputs": [],
   "source": [
    "# add wait key. window waits until the user presses a key\n",
    "cv2.waitKey(0)\n",
    "# and finally destroy/close all open windows\n",
    "cv2.destroyAllWindows()"
   ]
  },
  {
   "cell_type": "code",
   "execution_count": null,
   "id": "22aa19c0-cbb7-4348-8e81-5528ded8a3cb",
   "metadata": {},
   "outputs": [],
   "source": []
  }
 ],
 "metadata": {
  "kernelspec": {
   "display_name": "Python 3 (ipykernel)",
   "language": "python",
   "name": "python3"
  },
  "language_info": {
   "codemirror_mode": {
    "name": "ipython",
    "version": 3
   },
   "file_extension": ".py",
   "mimetype": "text/x-python",
   "name": "python",
   "nbconvert_exporter": "python",
   "pygments_lexer": "ipython3",
   "version": "3.11.3"
  }
 },
 "nbformat": 4,
 "nbformat_minor": 5
}
